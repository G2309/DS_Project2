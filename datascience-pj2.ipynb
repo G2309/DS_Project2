{
 "cells": [
  {
   "cell_type": "markdown",
   "id": "6b642028",
   "metadata": {
    "papermill": {
     "duration": 0.003949,
     "end_time": "2025-09-11T07:35:11.582599",
     "exception": false,
     "start_time": "2025-09-11T07:35:11.578650",
     "status": "completed"
    },
    "tags": []
   },
   "source": [
    "# Proyecto 2 Analisis Exploratorio"
   ]
  },
  {
   "cell_type": "code",
   "execution_count": 1,
   "id": "d3873bb1",
   "metadata": {
    "_cell_guid": "b1076dfc-b9ad-4769-8c92-a6c4dae69d19",
    "_uuid": "8f2839f25d086af736a60e9eeb907d3b93b6e0e5",
    "execution": {
     "iopub.execute_input": "2025-09-11T07:35:11.590384Z",
     "iopub.status.busy": "2025-09-11T07:35:11.590026Z",
     "iopub.status.idle": "2025-09-11T07:35:13.602839Z",
     "shell.execute_reply": "2025-09-11T07:35:13.601981Z"
    },
    "papermill": {
     "duration": 2.018708,
     "end_time": "2025-09-11T07:35:13.604604",
     "exception": false,
     "start_time": "2025-09-11T07:35:11.585896",
     "status": "completed"
    },
    "tags": []
   },
   "outputs": [],
   "source": [
    "import os\n",
    "import pandas as pd"
   ]
  },
  {
   "cell_type": "code",
   "execution_count": 2,
   "id": "0b74e04f",
   "metadata": {
    "execution": {
     "iopub.execute_input": "2025-09-11T07:35:13.612955Z",
     "iopub.status.busy": "2025-09-11T07:35:13.612512Z",
     "iopub.status.idle": "2025-09-11T07:35:13.674518Z",
     "shell.execute_reply": "2025-09-11T07:35:13.673529Z"
    },
    "papermill": {
     "duration": 0.067728,
     "end_time": "2025-09-11T07:35:13.675843",
     "exception": false,
     "start_time": "2025-09-11T07:35:13.608115",
     "status": "completed"
    },
    "tags": []
   },
   "outputs": [
    {
     "name": "stdout",
     "output_type": "stream",
     "text": [
      "['sample_submission.csv', 'train_images', 'train_bounding_boxes.csv', 'segmentations', 'train.csv', 'test.csv', 'test_images']\n",
      "Train shape: (2019, 9)\n",
      "Test shape: (3, 3)\n"
     ]
    },
    {
     "data": {
      "text/html": [
       "<div>\n",
       "<style scoped>\n",
       "    .dataframe tbody tr th:only-of-type {\n",
       "        vertical-align: middle;\n",
       "    }\n",
       "\n",
       "    .dataframe tbody tr th {\n",
       "        vertical-align: top;\n",
       "    }\n",
       "\n",
       "    .dataframe thead th {\n",
       "        text-align: right;\n",
       "    }\n",
       "</style>\n",
       "<table border=\"1\" class=\"dataframe\">\n",
       "  <thead>\n",
       "    <tr style=\"text-align: right;\">\n",
       "      <th></th>\n",
       "      <th>StudyInstanceUID</th>\n",
       "      <th>patient_overall</th>\n",
       "      <th>C1</th>\n",
       "      <th>C2</th>\n",
       "      <th>C3</th>\n",
       "      <th>C4</th>\n",
       "      <th>C5</th>\n",
       "      <th>C6</th>\n",
       "      <th>C7</th>\n",
       "    </tr>\n",
       "  </thead>\n",
       "  <tbody>\n",
       "    <tr>\n",
       "      <th>0</th>\n",
       "      <td>1.2.826.0.1.3680043.6200</td>\n",
       "      <td>1</td>\n",
       "      <td>1</td>\n",
       "      <td>1</td>\n",
       "      <td>0</td>\n",
       "      <td>0</td>\n",
       "      <td>0</td>\n",
       "      <td>0</td>\n",
       "      <td>0</td>\n",
       "    </tr>\n",
       "    <tr>\n",
       "      <th>1</th>\n",
       "      <td>1.2.826.0.1.3680043.27262</td>\n",
       "      <td>1</td>\n",
       "      <td>0</td>\n",
       "      <td>1</td>\n",
       "      <td>0</td>\n",
       "      <td>0</td>\n",
       "      <td>0</td>\n",
       "      <td>0</td>\n",
       "      <td>0</td>\n",
       "    </tr>\n",
       "    <tr>\n",
       "      <th>2</th>\n",
       "      <td>1.2.826.0.1.3680043.21561</td>\n",
       "      <td>1</td>\n",
       "      <td>0</td>\n",
       "      <td>1</td>\n",
       "      <td>0</td>\n",
       "      <td>0</td>\n",
       "      <td>0</td>\n",
       "      <td>0</td>\n",
       "      <td>0</td>\n",
       "    </tr>\n",
       "    <tr>\n",
       "      <th>3</th>\n",
       "      <td>1.2.826.0.1.3680043.12351</td>\n",
       "      <td>0</td>\n",
       "      <td>0</td>\n",
       "      <td>0</td>\n",
       "      <td>0</td>\n",
       "      <td>0</td>\n",
       "      <td>0</td>\n",
       "      <td>0</td>\n",
       "      <td>0</td>\n",
       "    </tr>\n",
       "    <tr>\n",
       "      <th>4</th>\n",
       "      <td>1.2.826.0.1.3680043.1363</td>\n",
       "      <td>1</td>\n",
       "      <td>0</td>\n",
       "      <td>0</td>\n",
       "      <td>0</td>\n",
       "      <td>0</td>\n",
       "      <td>1</td>\n",
       "      <td>0</td>\n",
       "      <td>0</td>\n",
       "    </tr>\n",
       "  </tbody>\n",
       "</table>\n",
       "</div>"
      ],
      "text/plain": [
       "            StudyInstanceUID  patient_overall  C1  C2  C3  C4  C5  C6  C7\n",
       "0   1.2.826.0.1.3680043.6200                1   1   1   0   0   0   0   0\n",
       "1  1.2.826.0.1.3680043.27262                1   0   1   0   0   0   0   0\n",
       "2  1.2.826.0.1.3680043.21561                1   0   1   0   0   0   0   0\n",
       "3  1.2.826.0.1.3680043.12351                0   0   0   0   0   0   0   0\n",
       "4   1.2.826.0.1.3680043.1363                1   0   0   0   0   1   0   0"
      ]
     },
     "execution_count": 2,
     "metadata": {},
     "output_type": "execute_result"
    }
   ],
   "source": [
    "data_path = \"/kaggle/input/rsna-2022-cervical-spine-fracture-detection\"\n",
    "print(os.listdir(data_path))\n",
    "train_df = pd.read_csv(f\"{data_path}/train.csv\")\n",
    "test_df = pd.read_csv(f\"{data_path}/test.csv\")\n",
    "sample_sub = pd.read_csv(f\"{data_path}/sample_submission.csv\")\n",
    "\n",
    "print(\"Train shape:\", train_df.shape)\n",
    "print(\"Test shape:\", test_df.shape)\n",
    "train_df.head() # Aqui tienes un codigo de python para nah no te creas pinche pedro, hoy si borre el comentario"
   ]
  },
  {
   "cell_type": "markdown",
   "id": "2f385f70",
   "metadata": {
    "papermill": {
     "duration": 0.003121,
     "end_time": "2025-09-11T07:35:13.682589",
     "exception": false,
     "start_time": "2025-09-11T07:35:13.679468",
     "status": "completed"
    },
    "tags": []
   },
   "source": [
    "## Descripción de los Datos y Carga\n",
    "\n",
    "El dataset de la competencia RSNA 2022 Cervical Spine Fracture Detection contiene imágenes médicas en formato DICOM(.dcm) y archivos de metadatos que permiten relacionar cada estudio con su diagnóstico.  \n",
    "El objetivo es identificar fracturas en la columna cervical (C1–C7) tanto a nivel vertebral como a nivel paciente.\n",
    "\n",
    "### Archivos principales\n",
    "\n",
    "- train.csv  \n",
    "  Contiene las etiquetas del conjunto de entrenamiento.  \n",
    "  - StudyInstanceUID: identificador único del estudio (escaneo de un paciente).  \n",
    "  - patient_overall: variable binaria que indica si el paciente tiene fractura en alguna vértebra (1 = fractura, 0 = sano).  \n",
    "  - C1 … C7: variables binarias que indican si existe fractura en cada vértebra cervical específica.\n",
    "\n",
    "- test.csv  \n",
    "  Define la estructura de predicción para el conjunto de prueba.  \n",
    "  - row_id: identificador único de fila (se relaciona con sample_submission.csv).  \n",
    "  - StudyInstanceUID: identificador del estudio en el conjunto de prueba.  \n",
    "  - prediction_type: cuál de las ocho columnas objetivo (paciente o cada vértebra) requiere predicción.\n",
    "\n",
    "- sample_submission.csv  \n",
    "  Archivo de ejemplo para el formato de entrega.  \n",
    "  - row_id: mismo identificador que en test.csv.  \n",
    "  - fractured: columna objetivo que debe predecirse (0 = sano, 1 = fractura).\n",
    "\n",
    "- train_bounding_boxes.csv  \n",
    "  Contiene coordenadas de bounding boxes que delimitan las vértebras en un subconjunto de los estudios de entrenamiento.\n",
    "\n",
    "- segmentations/  \n",
    "  Anotaciones a nivel de píxel (volúmenes NIfTI). Etiquetan cada vértebra cervical (C1–C7) y en algunos casos vértebras torácicas.\n",
    "\n",
    "- [train/test]_images/[StudyInstanceUID]/[slice_number].dcm  \n",
    "  Imágenes médicas en formato DICOM (cortes axiales). Cada carpeta corresponde a un estudio, que contiene múltiples cortes.\n",
    "\n",
    "---\n",
    "\n",
    "### Carga de archivos en Kaggle Notebook\n",
    "\n",
    "Utilizamos Kaggle Notebook para correr el proyecto (porque son 300GB en fotos cervicales :eyes: )\n"
   ]
  },
  {
   "cell_type": "markdown",
   "id": "966487dd",
   "metadata": {
    "papermill": {
     "duration": 0.003226,
     "end_time": "2025-09-11T07:35:13.689333",
     "exception": false,
     "start_time": "2025-09-11T07:35:13.686107",
     "status": "completed"
    },
    "tags": []
   },
   "source": [
    "## Operaciones de Limpieza\n",
    "\n",
    "- De los 4 datasets que tenemos los vamos a limpiar pero antes veamos los heads de cada uno"
   ]
  },
  {
   "cell_type": "code",
   "execution_count": 3,
   "id": "b5093795",
   "metadata": {
    "execution": {
     "iopub.execute_input": "2025-09-11T07:35:13.697409Z",
     "iopub.status.busy": "2025-09-11T07:35:13.696811Z",
     "iopub.status.idle": "2025-09-11T07:35:13.708091Z",
     "shell.execute_reply": "2025-09-11T07:35:13.707275Z"
    },
    "papermill": {
     "duration": 0.016987,
     "end_time": "2025-09-11T07:35:13.709628",
     "exception": false,
     "start_time": "2025-09-11T07:35:13.692641",
     "status": "completed"
    },
    "tags": []
   },
   "outputs": [
    {
     "data": {
      "text/html": [
       "<div>\n",
       "<style scoped>\n",
       "    .dataframe tbody tr th:only-of-type {\n",
       "        vertical-align: middle;\n",
       "    }\n",
       "\n",
       "    .dataframe tbody tr th {\n",
       "        vertical-align: top;\n",
       "    }\n",
       "\n",
       "    .dataframe thead th {\n",
       "        text-align: right;\n",
       "    }\n",
       "</style>\n",
       "<table border=\"1\" class=\"dataframe\">\n",
       "  <thead>\n",
       "    <tr style=\"text-align: right;\">\n",
       "      <th></th>\n",
       "      <th>StudyInstanceUID</th>\n",
       "      <th>patient_overall</th>\n",
       "      <th>C1</th>\n",
       "      <th>C2</th>\n",
       "      <th>C3</th>\n",
       "      <th>C4</th>\n",
       "      <th>C5</th>\n",
       "      <th>C6</th>\n",
       "      <th>C7</th>\n",
       "    </tr>\n",
       "  </thead>\n",
       "  <tbody>\n",
       "    <tr>\n",
       "      <th>0</th>\n",
       "      <td>1.2.826.0.1.3680043.6200</td>\n",
       "      <td>1</td>\n",
       "      <td>1</td>\n",
       "      <td>1</td>\n",
       "      <td>0</td>\n",
       "      <td>0</td>\n",
       "      <td>0</td>\n",
       "      <td>0</td>\n",
       "      <td>0</td>\n",
       "    </tr>\n",
       "    <tr>\n",
       "      <th>1</th>\n",
       "      <td>1.2.826.0.1.3680043.27262</td>\n",
       "      <td>1</td>\n",
       "      <td>0</td>\n",
       "      <td>1</td>\n",
       "      <td>0</td>\n",
       "      <td>0</td>\n",
       "      <td>0</td>\n",
       "      <td>0</td>\n",
       "      <td>0</td>\n",
       "    </tr>\n",
       "    <tr>\n",
       "      <th>2</th>\n",
       "      <td>1.2.826.0.1.3680043.21561</td>\n",
       "      <td>1</td>\n",
       "      <td>0</td>\n",
       "      <td>1</td>\n",
       "      <td>0</td>\n",
       "      <td>0</td>\n",
       "      <td>0</td>\n",
       "      <td>0</td>\n",
       "      <td>0</td>\n",
       "    </tr>\n",
       "    <tr>\n",
       "      <th>3</th>\n",
       "      <td>1.2.826.0.1.3680043.12351</td>\n",
       "      <td>0</td>\n",
       "      <td>0</td>\n",
       "      <td>0</td>\n",
       "      <td>0</td>\n",
       "      <td>0</td>\n",
       "      <td>0</td>\n",
       "      <td>0</td>\n",
       "      <td>0</td>\n",
       "    </tr>\n",
       "    <tr>\n",
       "      <th>4</th>\n",
       "      <td>1.2.826.0.1.3680043.1363</td>\n",
       "      <td>1</td>\n",
       "      <td>0</td>\n",
       "      <td>0</td>\n",
       "      <td>0</td>\n",
       "      <td>0</td>\n",
       "      <td>1</td>\n",
       "      <td>0</td>\n",
       "      <td>0</td>\n",
       "    </tr>\n",
       "  </tbody>\n",
       "</table>\n",
       "</div>"
      ],
      "text/plain": [
       "            StudyInstanceUID  patient_overall  C1  C2  C3  C4  C5  C6  C7\n",
       "0   1.2.826.0.1.3680043.6200                1   1   1   0   0   0   0   0\n",
       "1  1.2.826.0.1.3680043.27262                1   0   1   0   0   0   0   0\n",
       "2  1.2.826.0.1.3680043.21561                1   0   1   0   0   0   0   0\n",
       "3  1.2.826.0.1.3680043.12351                0   0   0   0   0   0   0   0\n",
       "4   1.2.826.0.1.3680043.1363                1   0   0   0   0   1   0   0"
      ]
     },
     "execution_count": 3,
     "metadata": {},
     "output_type": "execute_result"
    }
   ],
   "source": [
    "train_df.head()"
   ]
  },
  {
   "cell_type": "code",
   "execution_count": 4,
   "id": "dd5eca03",
   "metadata": {
    "execution": {
     "iopub.execute_input": "2025-09-11T07:35:13.718445Z",
     "iopub.status.busy": "2025-09-11T07:35:13.718110Z",
     "iopub.status.idle": "2025-09-11T07:35:13.726540Z",
     "shell.execute_reply": "2025-09-11T07:35:13.725551Z"
    },
    "papermill": {
     "duration": 0.014506,
     "end_time": "2025-09-11T07:35:13.727953",
     "exception": false,
     "start_time": "2025-09-11T07:35:13.713447",
     "status": "completed"
    },
    "tags": []
   },
   "outputs": [
    {
     "data": {
      "text/html": [
       "<div>\n",
       "<style scoped>\n",
       "    .dataframe tbody tr th:only-of-type {\n",
       "        vertical-align: middle;\n",
       "    }\n",
       "\n",
       "    .dataframe tbody tr th {\n",
       "        vertical-align: top;\n",
       "    }\n",
       "\n",
       "    .dataframe thead th {\n",
       "        text-align: right;\n",
       "    }\n",
       "</style>\n",
       "<table border=\"1\" class=\"dataframe\">\n",
       "  <thead>\n",
       "    <tr style=\"text-align: right;\">\n",
       "      <th></th>\n",
       "      <th>row_id</th>\n",
       "      <th>StudyInstanceUID</th>\n",
       "      <th>prediction_type</th>\n",
       "    </tr>\n",
       "  </thead>\n",
       "  <tbody>\n",
       "    <tr>\n",
       "      <th>0</th>\n",
       "      <td>1.2.826.0.1.3680043.10197_C1</td>\n",
       "      <td>1.2.826.0.1.3680043.10197</td>\n",
       "      <td>C1</td>\n",
       "    </tr>\n",
       "    <tr>\n",
       "      <th>1</th>\n",
       "      <td>1.2.826.0.1.3680043.10454_C1</td>\n",
       "      <td>1.2.826.0.1.3680043.10454</td>\n",
       "      <td>C1</td>\n",
       "    </tr>\n",
       "    <tr>\n",
       "      <th>2</th>\n",
       "      <td>1.2.826.0.1.3680043.10690_C1</td>\n",
       "      <td>1.2.826.0.1.3680043.10690</td>\n",
       "      <td>C1</td>\n",
       "    </tr>\n",
       "  </tbody>\n",
       "</table>\n",
       "</div>"
      ],
      "text/plain": [
       "                         row_id           StudyInstanceUID prediction_type\n",
       "0  1.2.826.0.1.3680043.10197_C1  1.2.826.0.1.3680043.10197              C1\n",
       "1  1.2.826.0.1.3680043.10454_C1  1.2.826.0.1.3680043.10454              C1\n",
       "2  1.2.826.0.1.3680043.10690_C1  1.2.826.0.1.3680043.10690              C1"
      ]
     },
     "execution_count": 4,
     "metadata": {},
     "output_type": "execute_result"
    }
   ],
   "source": [
    "test_df.head()"
   ]
  },
  {
   "cell_type": "code",
   "execution_count": 5,
   "id": "402e53fb",
   "metadata": {
    "execution": {
     "iopub.execute_input": "2025-09-11T07:35:13.738882Z",
     "iopub.status.busy": "2025-09-11T07:35:13.738591Z",
     "iopub.status.idle": "2025-09-11T07:35:13.749264Z",
     "shell.execute_reply": "2025-09-11T07:35:13.748542Z"
    },
    "papermill": {
     "duration": 0.017171,
     "end_time": "2025-09-11T07:35:13.750754",
     "exception": false,
     "start_time": "2025-09-11T07:35:13.733583",
     "status": "completed"
    },
    "tags": []
   },
   "outputs": [
    {
     "data": {
      "text/html": [
       "<div>\n",
       "<style scoped>\n",
       "    .dataframe tbody tr th:only-of-type {\n",
       "        vertical-align: middle;\n",
       "    }\n",
       "\n",
       "    .dataframe tbody tr th {\n",
       "        vertical-align: top;\n",
       "    }\n",
       "\n",
       "    .dataframe thead th {\n",
       "        text-align: right;\n",
       "    }\n",
       "</style>\n",
       "<table border=\"1\" class=\"dataframe\">\n",
       "  <thead>\n",
       "    <tr style=\"text-align: right;\">\n",
       "      <th></th>\n",
       "      <th>row_id</th>\n",
       "      <th>fractured</th>\n",
       "    </tr>\n",
       "  </thead>\n",
       "  <tbody>\n",
       "    <tr>\n",
       "      <th>0</th>\n",
       "      <td>1.2.826.0.1.3680043.10197_C1</td>\n",
       "      <td>0.5</td>\n",
       "    </tr>\n",
       "    <tr>\n",
       "      <th>1</th>\n",
       "      <td>1.2.826.0.1.3680043.10454_C1</td>\n",
       "      <td>0.5</td>\n",
       "    </tr>\n",
       "    <tr>\n",
       "      <th>2</th>\n",
       "      <td>1.2.826.0.1.3680043.10690_C1</td>\n",
       "      <td>0.5</td>\n",
       "    </tr>\n",
       "  </tbody>\n",
       "</table>\n",
       "</div>"
      ],
      "text/plain": [
       "                         row_id  fractured\n",
       "0  1.2.826.0.1.3680043.10197_C1        0.5\n",
       "1  1.2.826.0.1.3680043.10454_C1        0.5\n",
       "2  1.2.826.0.1.3680043.10690_C1        0.5"
      ]
     },
     "execution_count": 5,
     "metadata": {},
     "output_type": "execute_result"
    }
   ],
   "source": [
    "df_submission = pd.read_csv(f\"{data_path}/sample_submission.csv\")\n",
    "\n",
    "df_submission.head(2000)"
   ]
  },
  {
   "cell_type": "code",
   "execution_count": 6,
   "id": "15f440f2",
   "metadata": {
    "execution": {
     "iopub.execute_input": "2025-09-11T07:35:13.760023Z",
     "iopub.status.busy": "2025-09-11T07:35:13.759765Z",
     "iopub.status.idle": "2025-09-11T07:35:13.791982Z",
     "shell.execute_reply": "2025-09-11T07:35:13.791094Z"
    },
    "papermill": {
     "duration": 0.038828,
     "end_time": "2025-09-11T07:35:13.793636",
     "exception": false,
     "start_time": "2025-09-11T07:35:13.754808",
     "status": "completed"
    },
    "tags": []
   },
   "outputs": [
    {
     "data": {
      "text/html": [
       "<div>\n",
       "<style scoped>\n",
       "    .dataframe tbody tr th:only-of-type {\n",
       "        vertical-align: middle;\n",
       "    }\n",
       "\n",
       "    .dataframe tbody tr th {\n",
       "        vertical-align: top;\n",
       "    }\n",
       "\n",
       "    .dataframe thead th {\n",
       "        text-align: right;\n",
       "    }\n",
       "</style>\n",
       "<table border=\"1\" class=\"dataframe\">\n",
       "  <thead>\n",
       "    <tr style=\"text-align: right;\">\n",
       "      <th></th>\n",
       "      <th>StudyInstanceUID</th>\n",
       "      <th>x</th>\n",
       "      <th>y</th>\n",
       "      <th>width</th>\n",
       "      <th>height</th>\n",
       "      <th>slice_number</th>\n",
       "    </tr>\n",
       "  </thead>\n",
       "  <tbody>\n",
       "    <tr>\n",
       "      <th>0</th>\n",
       "      <td>1.2.826.0.1.3680043.10051</td>\n",
       "      <td>219.27715</td>\n",
       "      <td>216.71419</td>\n",
       "      <td>17.30440</td>\n",
       "      <td>20.38517</td>\n",
       "      <td>133</td>\n",
       "    </tr>\n",
       "    <tr>\n",
       "      <th>1</th>\n",
       "      <td>1.2.826.0.1.3680043.10051</td>\n",
       "      <td>221.56460</td>\n",
       "      <td>216.71419</td>\n",
       "      <td>17.87844</td>\n",
       "      <td>25.24362</td>\n",
       "      <td>134</td>\n",
       "    </tr>\n",
       "    <tr>\n",
       "      <th>2</th>\n",
       "      <td>1.2.826.0.1.3680043.10051</td>\n",
       "      <td>216.82151</td>\n",
       "      <td>221.62546</td>\n",
       "      <td>27.00959</td>\n",
       "      <td>26.37454</td>\n",
       "      <td>135</td>\n",
       "    </tr>\n",
       "    <tr>\n",
       "      <th>3</th>\n",
       "      <td>1.2.826.0.1.3680043.10051</td>\n",
       "      <td>214.49455</td>\n",
       "      <td>215.48637</td>\n",
       "      <td>27.92726</td>\n",
       "      <td>37.51363</td>\n",
       "      <td>136</td>\n",
       "    </tr>\n",
       "    <tr>\n",
       "      <th>4</th>\n",
       "      <td>1.2.826.0.1.3680043.10051</td>\n",
       "      <td>214.00000</td>\n",
       "      <td>215.48637</td>\n",
       "      <td>27.00000</td>\n",
       "      <td>43.51363</td>\n",
       "      <td>137</td>\n",
       "    </tr>\n",
       "  </tbody>\n",
       "</table>\n",
       "</div>"
      ],
      "text/plain": [
       "            StudyInstanceUID          x          y     width    height  \\\n",
       "0  1.2.826.0.1.3680043.10051  219.27715  216.71419  17.30440  20.38517   \n",
       "1  1.2.826.0.1.3680043.10051  221.56460  216.71419  17.87844  25.24362   \n",
       "2  1.2.826.0.1.3680043.10051  216.82151  221.62546  27.00959  26.37454   \n",
       "3  1.2.826.0.1.3680043.10051  214.49455  215.48637  27.92726  37.51363   \n",
       "4  1.2.826.0.1.3680043.10051  214.00000  215.48637  27.00000  43.51363   \n",
       "\n",
       "   slice_number  \n",
       "0           133  \n",
       "1           134  \n",
       "2           135  \n",
       "3           136  \n",
       "4           137  "
      ]
     },
     "execution_count": 6,
     "metadata": {},
     "output_type": "execute_result"
    }
   ],
   "source": [
    "df_train_bounding_boxes = pd.read_csv(f\"{data_path}/train_bounding_boxes.csv\")\n",
    "\n",
    "df_train_bounding_boxes .head()"
   ]
  },
  {
   "cell_type": "markdown",
   "id": "54e00a93",
   "metadata": {
    "papermill": {
     "duration": 0.003802,
     "end_time": "2025-09-11T07:35:13.801616",
     "exception": false,
     "start_time": "2025-09-11T07:35:13.797814",
     "status": "completed"
    },
    "tags": []
   },
   "source": [
    "### Analisis de Limpieza\n",
    "\n",
    "Lo que haremos es un analisis de limpieza de los datos de 2 cosas importantes, si son datos unicos, si faltan datos y su variacion.\n"
   ]
  },
  {
   "cell_type": "code",
   "execution_count": 7,
   "id": "b0007425",
   "metadata": {
    "execution": {
     "iopub.execute_input": "2025-09-11T07:35:13.811548Z",
     "iopub.status.busy": "2025-09-11T07:35:13.811254Z",
     "iopub.status.idle": "2025-09-11T07:35:13.819418Z",
     "shell.execute_reply": "2025-09-11T07:35:13.818432Z"
    },
    "papermill": {
     "duration": 0.015415,
     "end_time": "2025-09-11T07:35:13.820964",
     "exception": false,
     "start_time": "2025-09-11T07:35:13.805549",
     "status": "completed"
    },
    "tags": []
   },
   "outputs": [],
   "source": [
    "import pandas as pd\n",
    "\n",
    "def data_cleaning_report(df: pd.DataFrame) -> tuple[pd.DataFrame, int]:\n",
    "    n_rows = len(df)\n",
    "\n",
    "    # Conteo de valores faltantes y porcentaje\n",
    "    missing_count = df.isnull().sum()\n",
    "    missing_pct = (missing_count / n_rows) * 100\n",
    "\n",
    "    # Tipos de datos\n",
    "    dtypes = df.dtypes\n",
    "\n",
    "    # Número de valores únicos por columna\n",
    "    unique_count = df.nunique()\n",
    "\n",
    "    # Valores constantes (columnas que son todas iguales)\n",
    "    constant_cols = [col for col in df.columns if df[col].nunique() == 1]\n",
    "\n",
    "    # Construir reporte\n",
    "    report = pd.DataFrame({\n",
    "        \"Tipo\": dtypes,\n",
    "        \"Valores_Faltantes\": missing_count,\n",
    "        \"Porcentaje_Faltantes\": missing_pct.round(2),\n",
    "        \"Valores_Únicos\": unique_count,\n",
    "    })\n",
    "\n",
    "    report[\"Es_Constante\"] = report.index.isin(constant_cols)\n",
    "\n",
    "    # Agregar fila resumen\n",
    "    resumen = pd.DataFrame(\n",
    "        {\"Tipo\": \"—\",\n",
    "         \"Valores_Faltantes\": df.isnull().sum().sum(),\n",
    "         \"Porcentaje_Faltantes\": (df.isnull().sum().sum() / (n_rows * df.shape[1])) * 100,\n",
    "         \"Valores_Únicos\": \"—\",\n",
    "         \"Es_Constante\": \"—\"},\n",
    "        index=[f\"TOTAL_FILAS={n_rows}\"]\n",
    "    )\n",
    "\n",
    "    report = pd.concat([report.sort_values(by=\"Porcentaje_Faltantes\", ascending=False), resumen])\n",
    "\n",
    "    # Retorna el reporte y el total de filas\n",
    "    return report, n_rows\n"
   ]
  },
  {
   "cell_type": "code",
   "execution_count": 8,
   "id": "4c65644f",
   "metadata": {
    "execution": {
     "iopub.execute_input": "2025-09-11T07:35:13.830253Z",
     "iopub.status.busy": "2025-09-11T07:35:13.829934Z",
     "iopub.status.idle": "2025-09-11T07:35:13.881303Z",
     "shell.execute_reply": "2025-09-11T07:35:13.880067Z"
    },
    "papermill": {
     "duration": 0.057979,
     "end_time": "2025-09-11T07:35:13.883127",
     "exception": false,
     "start_time": "2025-09-11T07:35:13.825148",
     "status": "completed"
    },
    "tags": []
   },
   "outputs": [
    {
     "name": "stdout",
     "output_type": "stream",
     "text": [
      "=== Reporte de Calidad de Datos train_df ===\n",
      "(                    Tipo  Valores_Faltantes  Porcentaje_Faltantes  \\\n",
      "StudyInstanceUID  object                  0                   0.0   \n",
      "patient_overall    int64                  0                   0.0   \n",
      "C1                 int64                  0                   0.0   \n",
      "C2                 int64                  0                   0.0   \n",
      "C3                 int64                  0                   0.0   \n",
      "C4                 int64                  0                   0.0   \n",
      "C5                 int64                  0                   0.0   \n",
      "C6                 int64                  0                   0.0   \n",
      "C7                 int64                  0                   0.0   \n",
      "TOTAL_FILAS=2019       —                  0                   0.0   \n",
      "\n",
      "                 Valores_Únicos Es_Constante  \n",
      "StudyInstanceUID           2019        False  \n",
      "patient_overall               2        False  \n",
      "C1                            2        False  \n",
      "C2                            2        False  \n",
      "C3                            2        False  \n",
      "C4                            2        False  \n",
      "C5                            2        False  \n",
      "C6                            2        False  \n",
      "C7                            2        False  \n",
      "TOTAL_FILAS=2019              —            —  , 2019)\n",
      "=== Reporte de Calidad de Datos test_df===\n",
      "(                    Tipo  Valores_Faltantes  Porcentaje_Faltantes  \\\n",
      "row_id            object                  0                   0.0   \n",
      "StudyInstanceUID  object                  0                   0.0   \n",
      "prediction_type   object                  0                   0.0   \n",
      "TOTAL_FILAS=3          —                  0                   0.0   \n",
      "\n",
      "                 Valores_Únicos Es_Constante  \n",
      "row_id                        3        False  \n",
      "StudyInstanceUID              3        False  \n",
      "prediction_type               1         True  \n",
      "TOTAL_FILAS=3                 —            —  , 3)\n",
      "=== Reporte de Calidad de Datos df_train_bounding_boxes ===\n",
      "(                     Tipo  Valores_Faltantes  Porcentaje_Faltantes  \\\n",
      "StudyInstanceUID   object                  0                   0.0   \n",
      "x                 float64                  0                   0.0   \n",
      "y                 float64                  0                   0.0   \n",
      "width             float64                  0                   0.0   \n",
      "height            float64                  0                   0.0   \n",
      "slice_number        int64                  0                   0.0   \n",
      "TOTAL_FILAS=7217        —                  0                   0.0   \n",
      "\n",
      "                 Valores_Únicos Es_Constante  \n",
      "StudyInstanceUID            235        False  \n",
      "x                          2642        False  \n",
      "y                          2746        False  \n",
      "width                      3574        False  \n",
      "height                     3727        False  \n",
      "slice_number                458        False  \n",
      "TOTAL_FILAS=7217              —            —  , 7217)\n",
      "=== Reporte de Calidad de Datos rdf_submission ===\n",
      "(                  Tipo  Valores_Faltantes  Porcentaje_Faltantes  \\\n",
      "row_id          object                  0                   0.0   \n",
      "fractured      float64                  0                   0.0   \n",
      "TOTAL_FILAS=3        —                  0                   0.0   \n",
      "\n",
      "              Valores_Únicos Es_Constante  \n",
      "row_id                     3        False  \n",
      "fractured                  1         True  \n",
      "TOTAL_FILAS=3              —            —  , 3)\n"
     ]
    }
   ],
   "source": [
    "reporte = data_cleaning_report(train_df)\n",
    "print(\"=== Reporte de Calidad de Datos train_df ===\")\n",
    "print(reporte)\n",
    "reporte_test = data_cleaning_report(test_df)\n",
    "print(\"=== Reporte de Calidad de Datos test_df===\")\n",
    "print(reporte_test)\n",
    "\n",
    "reporte_df_train_bounding_boxes = data_cleaning_report(df_train_bounding_boxes)\n",
    "print(\"=== Reporte de Calidad de Datos df_train_bounding_boxes ===\")\n",
    "print(reporte_df_train_bounding_boxes)\n",
    "reporte_df_submission = data_cleaning_report(df_submission)\n",
    "print(\"=== Reporte de Calidad de Datos rdf_submission ===\")\n",
    "print(reporte_df_submission)\n",
    "\n"
   ]
  },
  {
   "cell_type": "markdown",
   "id": "f2b0673a",
   "metadata": {
    "papermill": {
     "duration": 0.003863,
     "end_time": "2025-09-11T07:35:13.891368",
     "exception": false,
     "start_time": "2025-09-11T07:35:13.887505",
     "status": "completed"
    },
    "tags": []
   },
   "source": [
    "Podemos ver que el dataset estan bastante limpios, de hecho no hay ningun datos faltantes. Y de todo podemos ver que el dummision solo tiene 3 filas al igual que test. por lo que los unicos que vamos a limpiar son el df_train_bounding_boxes y el train_df. Y el train realmente no esta sucio, se reviso cada columna y todos estan . Lo que haremos es lo siguiente, convertir cualquier dato de patient_overall y los Cs tenga valores de enteros. \n",
    "\n",
    "Con el ultimo veremos lo siguiente para ver si tenemos \n",
    "\n"
   ]
  },
  {
   "cell_type": "code",
   "execution_count": 9,
   "id": "718279fc",
   "metadata": {
    "execution": {
     "iopub.execute_input": "2025-09-11T07:35:13.900647Z",
     "iopub.status.busy": "2025-09-11T07:35:13.900288Z",
     "iopub.status.idle": "2025-09-11T07:35:13.911992Z",
     "shell.execute_reply": "2025-09-11T07:35:13.911235Z"
    },
    "papermill": {
     "duration": 0.018103,
     "end_time": "2025-09-11T07:35:13.913441",
     "exception": false,
     "start_time": "2025-09-11T07:35:13.895338",
     "status": "completed"
    },
    "tags": []
   },
   "outputs": [
    {
     "name": "stdout",
     "output_type": "stream",
     "text": [
      "Bounding boxes inválidas: 0 de 7217\n"
     ]
    }
   ],
   "source": [
    "def validate_bounding_boxes(df: pd.DataFrame) -> pd.DataFrame:\n",
    "    invalid = df[(df[\"width\"] <= 0) | (df[\"height\"] <= 0)]\n",
    "    print(f\"Bounding boxes inválidas: {len(invalid)} de {len(df)}\")\n",
    "    return invalid\n",
    "\n",
    "# Uso\n",
    "invalid_boxes = validate_bounding_boxes(df_train_bounding_boxes)\n"
   ]
  },
  {
   "cell_type": "markdown",
   "id": "e13c5b6c",
   "metadata": {
    "papermill": {
     "duration": 0.003918,
     "end_time": "2025-09-11T07:35:13.921539",
     "exception": false,
     "start_time": "2025-09-11T07:35:13.917621",
     "status": "completed"
    },
    "tags": []
   },
   "source": [
    "Podemos ver que nuestros valores de width y height no son menores o iguales a 0 , por lo que si se pueden usar. Asi que lo que haremos es los floats ponerlos con 5 decimales y los enteros como enteros. \n",
    "\n"
   ]
  },
  {
   "cell_type": "code",
   "execution_count": 10,
   "id": "85e21756",
   "metadata": {
    "execution": {
     "iopub.execute_input": "2025-09-11T07:35:13.931388Z",
     "iopub.status.busy": "2025-09-11T07:35:13.930881Z",
     "iopub.status.idle": "2025-09-11T07:35:13.944021Z",
     "shell.execute_reply": "2025-09-11T07:35:13.942906Z"
    },
    "papermill": {
     "duration": 0.020025,
     "end_time": "2025-09-11T07:35:13.945718",
     "exception": false,
     "start_time": "2025-09-11T07:35:13.925693",
     "status": "completed"
    },
    "tags": []
   },
   "outputs": [
    {
     "name": "stdout",
     "output_type": "stream",
     "text": [
      "StudyInstanceUID     object\n",
      "x                   float64\n",
      "y                   float64\n",
      "width               float64\n",
      "height              float64\n",
      "slice_number          int64\n",
      "dtype: object\n",
      "StudyInstanceUID    object\n",
      "patient_overall      int64\n",
      "C1                   int64\n",
      "C2                   int64\n",
      "C3                   int64\n",
      "C4                   int64\n",
      "C5                   int64\n",
      "C6                   int64\n",
      "C7                   int64\n",
      "dtype: object\n"
     ]
    }
   ],
   "source": [
    "def normalize_bounding_boxes(df: pd.DataFrame) -> pd.DataFrame:\n",
    "    df = df.copy()\n",
    "\n",
    "    # Redondear floats a 5 decimales\n",
    "    float_cols = [\"x\", \"y\", \"width\", \"height\"]\n",
    "    for col in float_cols:\n",
    "        df[col] = df[col].astype(float).round(5)\n",
    "\n",
    "    # Asegurar enteros en slice_number\n",
    "    df[\"slice_number\"] = df[\"slice_number\"].astype(int)\n",
    "\n",
    "    return df\n",
    "\n",
    "# --- Normalización train ---\n",
    "def normalize_train_labels(df: pd.DataFrame) -> pd.DataFrame:\n",
    "    df = df.copy()\n",
    "\n",
    "    # Columnas binarias (patient_overall y C1..C7)\n",
    "    binary_cols = [\"patient_overall\", \"C1\", \"C2\", \"C3\", \"C4\", \"C5\", \"C6\", \"C7\"]\n",
    "    for col in binary_cols:\n",
    "        df[col] = df[col].astype(int)\n",
    "\n",
    "    return df\n",
    "\n",
    "df_boxes_norm = normalize_bounding_boxes(df_train_bounding_boxes)\n",
    "df_train_norm = normalize_train_labels(train_df)\n",
    "\n",
    "print(df_boxes_norm.dtypes)\n",
    "print(df_train_norm.dtypes)"
   ]
  },
  {
   "cell_type": "markdown",
   "id": "7a6c9036",
   "metadata": {
    "papermill": {
     "duration": 0.004376,
     "end_time": "2025-09-11T07:35:13.954398",
     "exception": false,
     "start_time": "2025-09-11T07:35:13.950022",
     "status": "completed"
    },
    "tags": []
   },
   "source": [
    "Como podemos ver ya con esto se han limpiados los datasets de manera correcta. Pero la labor no fue tan dura debido a que ya se llevo a un nivel bastante limpio\n"
   ]
  }
 ],
 "metadata": {
  "kaggle": {
   "accelerator": "none",
   "dataSources": [
    {
     "databundleVersionId": 4050810,
     "sourceId": 36363,
     "sourceType": "competition"
    }
   ],
   "dockerImageVersionId": 31089,
   "isGpuEnabled": false,
   "isInternetEnabled": true,
   "language": "python",
   "sourceType": "notebook"
  },
  "kernelspec": {
   "display_name": "Python 3",
   "language": "python",
   "name": "python3"
  },
  "language_info": {
   "codemirror_mode": {
    "name": "ipython",
    "version": 3
   },
   "file_extension": ".py",
   "mimetype": "text/x-python",
   "name": "python",
   "nbconvert_exporter": "python",
   "pygments_lexer": "ipython3",
   "version": "3.11.13"
  },
  "papermill": {
   "default_parameters": {},
   "duration": 8.738578,
   "end_time": "2025-09-11T07:35:14.478949",
   "environment_variables": {},
   "exception": null,
   "input_path": "__notebook__.ipynb",
   "output_path": "__notebook__.ipynb",
   "parameters": {},
   "start_time": "2025-09-11T07:35:05.740371",
   "version": "2.6.0"
  }
 },
 "nbformat": 4,
 "nbformat_minor": 5
}
